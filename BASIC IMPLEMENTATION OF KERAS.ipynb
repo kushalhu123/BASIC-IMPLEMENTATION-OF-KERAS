{
 "cells": [
  {
   "cell_type": "code",
   "execution_count": 2,
   "metadata": {},
   "outputs": [],
   "source": [
    "from keras import Sequential"
   ]
  },
  {
   "cell_type": "code",
   "execution_count": 3,
   "metadata": {},
   "outputs": [],
   "source": [
    "# GET THE DEFAULT DENSE LAYER"
   ]
  },
  {
   "cell_type": "code",
   "execution_count": 4,
   "metadata": {},
   "outputs": [],
   "source": [
    "from keras.layers import Dense"
   ]
  },
  {
   "cell_type": "code",
   "execution_count": 6,
   "metadata": {},
   "outputs": [],
   "source": [
    "# STEPS TO FOLLOW TO CREATE A NETWORK\n",
    "#CREATING A MODEl\n",
    "# ADDING LAYERS\n",
    "#COMPLILING\n",
    "#FIT\n",
    "#EVALUATE"
   ]
  },
  {
   "cell_type": "code",
   "execution_count": 7,
   "metadata": {},
   "outputs": [],
   "source": [
    "#IMPORT THE DATASET BREAST CANCER"
   ]
  },
  {
   "cell_type": "code",
   "execution_count": 8,
   "metadata": {},
   "outputs": [],
   "source": [
    "from sklearn import datasets"
   ]
  },
  {
   "cell_type": "code",
   "execution_count": 11,
   "metadata": {},
   "outputs": [],
   "source": [
    "cancer=datasets.load_breast_cancer()"
   ]
  },
  {
   "cell_type": "code",
   "execution_count": 12,
   "metadata": {},
   "outputs": [],
   "source": [
    "from sklearn.model_selection import train_test_split"
   ]
  },
  {
   "cell_type": "code",
   "execution_count": 13,
   "metadata": {},
   "outputs": [],
   "source": [
    "x_train,x_test,y_train,y_test=train_test_split(cancer.data,cancer.target,random_state=0)"
   ]
  },
  {
   "cell_type": "code",
   "execution_count": 14,
   "metadata": {},
   "outputs": [],
   "source": [
    "# LET US SCALE THE DATA BEFORE DOING ANYTHING"
   ]
  },
  {
   "cell_type": "code",
   "execution_count": 15,
   "metadata": {},
   "outputs": [],
   "source": [
    "from sklearn.preprocessing import StandardScaler"
   ]
  },
  {
   "cell_type": "code",
   "execution_count": 16,
   "metadata": {},
   "outputs": [],
   "source": [
    "sc=StandardScaler()\n",
    "x_train=sc.fit_transform(x_train)\n",
    "x_test=sc.transform(x_test)"
   ]
  },
  {
   "cell_type": "code",
   "execution_count": 17,
   "metadata": {},
   "outputs": [
    {
     "data": {
      "text/plain": [
       "(426, 30)"
      ]
     },
     "execution_count": 17,
     "metadata": {},
     "output_type": "execute_result"
    }
   ],
   "source": [
    "x_train.shape"
   ]
  },
  {
   "cell_type": "code",
   "execution_count": 18,
   "metadata": {},
   "outputs": [],
   "source": [
    "# YOU HAVE 30 AS THE FEATURE WHICH YOU CAN GIVE TO THAT"
   ]
  },
  {
   "cell_type": "code",
   "execution_count": 19,
   "metadata": {},
   "outputs": [],
   "source": [
    "# CREATE OR BUILD THE NETWORK NOW"
   ]
  },
  {
   "cell_type": "code",
   "execution_count": 20,
   "metadata": {},
   "outputs": [],
   "source": [
    "layer1=Dense(units=32,activation='relu',input_dim=30)"
   ]
  },
  {
   "cell_type": "code",
   "execution_count": 21,
   "metadata": {},
   "outputs": [],
   "source": [
    "# NOW YOU CREATE OR INITLAIZE A MODEL\n",
    "model=Sequential()"
   ]
  },
  {
   "cell_type": "code",
   "execution_count": 22,
   "metadata": {},
   "outputs": [],
   "source": [
    "model.add(layer1)\n",
    "model.add(Dense(units=16,activation='relu'))\n",
    "model.add(Dense(units=1,activation='sigmoid'))"
   ]
  },
  {
   "cell_type": "code",
   "execution_count": 23,
   "metadata": {},
   "outputs": [],
   "source": [
    "#NOW THE MODEL HAS BEEN CREATED OR THE LAYERS HAS BEEN ADDED TO IT NOW COMPLIE WE HAVE TO DO \n",
    "#WHICH OPTIMIZER WHICH LOSS FUNCTION WHICH METRICS "
   ]
  },
  {
   "cell_type": "code",
   "execution_count": 25,
   "metadata": {},
   "outputs": [],
   "source": [
    "model.compile(optimizer='adam',loss='binary_crossentropy',metrics=['accuracy'])"
   ]
  },
  {
   "cell_type": "code",
   "execution_count": 26,
   "metadata": {},
   "outputs": [],
   "source": [
    "# NOW YOU HAVE COMPLIED THE DATA JUST USE"
   ]
  },
  {
   "cell_type": "code",
   "execution_count": 27,
   "metadata": {},
   "outputs": [
    {
     "name": "stdout",
     "output_type": "stream",
     "text": [
      "Train on 426 samples, validate on 143 samples\n",
      "Epoch 1/20\n",
      "426/426 [==============================] - 2s 4ms/step - loss: 0.8618 - accuracy: 0.1784 - val_loss: 0.7603 - val_accuracy: 0.3147\n",
      "Epoch 2/20\n",
      "426/426 [==============================] - 0s 94us/step - loss: 0.6970 - accuracy: 0.4953 - val_loss: 0.6203 - val_accuracy: 0.7413\n",
      "Epoch 3/20\n",
      "426/426 [==============================] - 0s 89us/step - loss: 0.5779 - accuracy: 0.8075 - val_loss: 0.5231 - val_accuracy: 0.8531\n",
      "Epoch 4/20\n",
      "426/426 [==============================] - 0s 120us/step - loss: 0.4902 - accuracy: 0.8897 - val_loss: 0.4408 - val_accuracy: 0.8881\n",
      "Epoch 5/20\n",
      "426/426 [==============================] - 0s 99us/step - loss: 0.4092 - accuracy: 0.9131 - val_loss: 0.3649 - val_accuracy: 0.8881\n",
      "Epoch 6/20\n",
      "426/426 [==============================] - 0s 110us/step - loss: 0.3340 - accuracy: 0.9413 - val_loss: 0.2990 - val_accuracy: 0.8951\n",
      "Epoch 7/20\n",
      "426/426 [==============================] - 0s 82us/step - loss: 0.2700 - accuracy: 0.9413 - val_loss: 0.2473 - val_accuracy: 0.9091\n",
      "Epoch 8/20\n",
      "426/426 [==============================] - 0s 108us/step - loss: 0.2199 - accuracy: 0.9437 - val_loss: 0.2101 - val_accuracy: 0.9231\n",
      "Epoch 9/20\n",
      "426/426 [==============================] - 0s 101us/step - loss: 0.1825 - accuracy: 0.9460 - val_loss: 0.1840 - val_accuracy: 0.9231\n",
      "Epoch 10/20\n",
      "426/426 [==============================] - 0s 108us/step - loss: 0.1565 - accuracy: 0.9601 - val_loss: 0.1652 - val_accuracy: 0.9231\n",
      "Epoch 11/20\n",
      "426/426 [==============================] - 0s 99us/step - loss: 0.1374 - accuracy: 0.9648 - val_loss: 0.1505 - val_accuracy: 0.9301\n",
      "Epoch 12/20\n",
      "426/426 [==============================] - 0s 94us/step - loss: 0.1229 - accuracy: 0.9671 - val_loss: 0.1387 - val_accuracy: 0.9371\n",
      "Epoch 13/20\n",
      "426/426 [==============================] - 0s 92us/step - loss: 0.1123 - accuracy: 0.9695 - val_loss: 0.1288 - val_accuracy: 0.9371\n",
      "Epoch 14/20\n",
      "426/426 [==============================] - 0s 101us/step - loss: 0.1032 - accuracy: 0.9742 - val_loss: 0.1214 - val_accuracy: 0.9371\n",
      "Epoch 15/20\n",
      "426/426 [==============================] - 0s 82us/step - loss: 0.0963 - accuracy: 0.9789 - val_loss: 0.1150 - val_accuracy: 0.9441\n",
      "Epoch 16/20\n",
      "426/426 [==============================] - 0s 101us/step - loss: 0.0899 - accuracy: 0.9812 - val_loss: 0.1093 - val_accuracy: 0.9580\n",
      "Epoch 17/20\n",
      "426/426 [==============================] - 0s 94us/step - loss: 0.0847 - accuracy: 0.9812 - val_loss: 0.1037 - val_accuracy: 0.9580\n",
      "Epoch 18/20\n",
      "426/426 [==============================] - 0s 99us/step - loss: 0.0802 - accuracy: 0.9812 - val_loss: 0.0991 - val_accuracy: 0.9580\n",
      "Epoch 19/20\n",
      "426/426 [==============================] - 0s 143us/step - loss: 0.0761 - accuracy: 0.9836 - val_loss: 0.0949 - val_accuracy: 0.9650\n",
      "Epoch 20/20\n",
      "426/426 [==============================] - 0s 89us/step - loss: 0.0729 - accuracy: 0.9836 - val_loss: 0.0907 - val_accuracy: 0.9720\n"
     ]
    },
    {
     "data": {
      "text/plain": [
       "<keras.callbacks.callbacks.History at 0x2f0564a2bc8>"
      ]
     },
     "execution_count": 27,
     "metadata": {},
     "output_type": "execute_result"
    }
   ],
   "source": [
    "#FIT FOR THIS\n",
    "model.fit(x_train,y_train,batch_size=50,epochs=20,validation_data=(x_test,y_test))"
   ]
  },
  {
   "cell_type": "code",
   "execution_count": 28,
   "metadata": {},
   "outputs": [
    {
     "data": {
      "text/plain": [
       "array([[6.08405843e-03],\n",
       "       [9.78585482e-01],\n",
       "       [9.94884074e-01],\n",
       "       [9.77205992e-01],\n",
       "       [9.93334293e-01],\n",
       "       [9.93471622e-01],\n",
       "       [9.91927505e-01],\n",
       "       [9.96615469e-01],\n",
       "       [9.99589026e-01],\n",
       "       [9.99064267e-01],\n",
       "       [6.73935354e-01],\n",
       "       [8.88713419e-01],\n",
       "       [9.98920321e-01],\n",
       "       [5.63688338e-01],\n",
       "       [6.74384952e-01],\n",
       "       [3.66289616e-02],\n",
       "       [9.94462073e-01],\n",
       "       [2.73297797e-03],\n",
       "       [1.35495439e-02],\n",
       "       [1.87743877e-04],\n",
       "       [4.04079398e-03],\n",
       "       [2.32666843e-02],\n",
       "       [9.80015457e-01],\n",
       "       [9.93460298e-01],\n",
       "       [1.04856025e-02],\n",
       "       [9.96108949e-01],\n",
       "       [9.99450982e-01],\n",
       "       [8.82828329e-03],\n",
       "       [9.95317340e-01],\n",
       "       [4.76870337e-04],\n",
       "       [9.98700261e-01],\n",
       "       [1.05564492e-02],\n",
       "       [8.38420391e-01],\n",
       "       [1.48364929e-02],\n",
       "       [9.99902725e-01],\n",
       "       [1.01797916e-02],\n",
       "       [9.80379462e-01],\n",
       "       [7.85318911e-02],\n",
       "       [9.81082320e-01],\n",
       "       [2.92158853e-02],\n",
       "       [3.56510520e-01],\n",
       "       [9.98695433e-01],\n",
       "       [2.22235769e-01],\n",
       "       [9.99359787e-01],\n",
       "       [8.13732207e-01],\n",
       "       [4.51708096e-04],\n",
       "       [9.99920130e-01],\n",
       "       [9.65501368e-01],\n",
       "       [9.95185792e-01],\n",
       "       [2.94501369e-04],\n",
       "       [6.96000736e-03],\n",
       "       [2.06024557e-01],\n",
       "       [7.59510789e-03],\n",
       "       [9.95655894e-01],\n",
       "       [9.78128850e-01],\n",
       "       [9.98635828e-01],\n",
       "       [9.95937943e-01],\n",
       "       [9.38346982e-01],\n",
       "       [9.89748657e-01],\n",
       "       [8.61207955e-05],\n",
       "       [4.84701023e-02],\n",
       "       [5.62991537e-02],\n",
       "       [9.97712970e-01],\n",
       "       [9.81596291e-01],\n",
       "       [3.05387843e-03],\n",
       "       [8.46274674e-01],\n",
       "       [7.83192206e-07],\n",
       "       [1.93483254e-04],\n",
       "       [7.93969911e-03],\n",
       "       [9.96660948e-01],\n",
       "       [5.12826800e-01],\n",
       "       [1.94834880e-04],\n",
       "       [9.91964936e-01],\n",
       "       [4.41257358e-01],\n",
       "       [6.17522513e-04],\n",
       "       [9.86072302e-01],\n",
       "       [9.99519467e-01],\n",
       "       [9.25194502e-01],\n",
       "       [9.98289168e-01],\n",
       "       [9.99269307e-01],\n",
       "       [7.18619376e-02],\n",
       "       [7.92183982e-06],\n",
       "       [2.92275654e-04],\n",
       "       [9.93976593e-01],\n",
       "       [2.83992011e-02],\n",
       "       [9.96382833e-01],\n",
       "       [9.99039054e-01],\n",
       "       [9.99760211e-01],\n",
       "       [5.62575273e-03],\n",
       "       [2.63341576e-07],\n",
       "       [9.99428689e-01],\n",
       "       [4.95821863e-01],\n",
       "       [2.55093724e-01],\n",
       "       [3.69251720e-05],\n",
       "       [9.94392455e-01],\n",
       "       [9.92414296e-01],\n",
       "       [2.59932043e-04],\n",
       "       [8.76411796e-01],\n",
       "       [9.73706126e-01],\n",
       "       [9.87843156e-01],\n",
       "       [9.99979019e-01],\n",
       "       [9.94489074e-01],\n",
       "       [9.85290170e-01],\n",
       "       [7.21472859e-01],\n",
       "       [6.39457721e-03],\n",
       "       [9.97714877e-01],\n",
       "       [9.06640489e-05],\n",
       "       [7.81349540e-01],\n",
       "       [7.75211573e-01],\n",
       "       [6.43079221e-01],\n",
       "       [9.66588616e-01],\n",
       "       [3.04236449e-03],\n",
       "       [8.49982630e-03],\n",
       "       [8.00467491e-01],\n",
       "       [9.94210958e-01],\n",
       "       [9.67461705e-01],\n",
       "       [9.31342363e-01],\n",
       "       [9.90920424e-01],\n",
       "       [9.85476553e-01],\n",
       "       [9.91006911e-01],\n",
       "       [9.87840712e-01],\n",
       "       [9.95705068e-01],\n",
       "       [4.63758744e-02],\n",
       "       [9.72677588e-01],\n",
       "       [7.51566258e-04],\n",
       "       [8.72815788e-01],\n",
       "       [9.04180408e-01],\n",
       "       [9.98681724e-01],\n",
       "       [9.98799086e-01],\n",
       "       [9.98978257e-01],\n",
       "       [1.94880124e-02],\n",
       "       [9.98882115e-01],\n",
       "       [9.98259842e-01],\n",
       "       [4.62560654e-01],\n",
       "       [9.31447208e-01],\n",
       "       [9.99634266e-01],\n",
       "       [7.24372387e-01],\n",
       "       [4.05989587e-01],\n",
       "       [2.01544253e-06],\n",
       "       [9.97601449e-01],\n",
       "       [9.97197986e-01],\n",
       "       [9.93245184e-01],\n",
       "       [1.21956924e-04]], dtype=float32)"
      ]
     },
     "execution_count": 28,
     "metadata": {},
     "output_type": "execute_result"
    }
   ],
   "source": [
    "model.predict(x_test)"
   ]
  },
  {
   "cell_type": "code",
   "execution_count": 29,
   "metadata": {},
   "outputs": [
    {
     "name": "stdout",
     "output_type": "stream",
     "text": [
      "143/143 [==============================] - 0s 77us/step\n"
     ]
    },
    {
     "data": {
      "text/plain": [
       "[0.0907023296906398, 0.9720279574394226]"
      ]
     },
     "execution_count": 29,
     "metadata": {},
     "output_type": "execute_result"
    }
   ],
   "source": [
    "model.evaluate(x_test,y_test)# THIS US THE ACCURACY"
   ]
  }
 ],
 "metadata": {
  "kernelspec": {
   "display_name": "Python 3",
   "language": "python",
   "name": "python3"
  },
  "language_info": {
   "codemirror_mode": {
    "name": "ipython",
    "version": 3
   },
   "file_extension": ".py",
   "mimetype": "text/x-python",
   "name": "python",
   "nbconvert_exporter": "python",
   "pygments_lexer": "ipython3",
   "version": "3.7.4"
  }
 },
 "nbformat": 4,
 "nbformat_minor": 2
}
